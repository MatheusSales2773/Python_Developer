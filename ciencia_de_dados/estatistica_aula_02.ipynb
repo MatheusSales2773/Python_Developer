{
  "nbformat": 4,
  "nbformat_minor": 0,
  "metadata": {
    "colab": {
      "provenance": [],
      "toc_visible": true
    },
    "kernelspec": {
      "name": "python3",
      "display_name": "Python 3"
    },
    "language_info": {
      "name": "python"
    }
  },
  "cells": [
    {
      "cell_type": "code",
      "execution_count": null,
      "metadata": {
        "id": "kTbh21hLI2MD"
      },
      "outputs": [],
      "source": []
    },
    {
      "cell_type": "markdown",
      "source": [
        "# Sessão 2- Estatística no Python"
      ],
      "metadata": {
        "id": "aFlqoyknI_9c"
      }
    },
    {
      "cell_type": "markdown",
      "source": [
        "## Variáveis"
      ],
      "metadata": {
        "id": "32BMnhg5JHFb"
      }
    },
    {
      "cell_type": "markdown",
      "source": [
        "Na visão do programador:\n",
        "\n",
        "- Variável é um espaço reservado na memória do computadore  cada variável tem o seu tipo correspondente.\n",
        "\n"
      ],
      "metadata": {
        "id": "MEAttiINJMCa"
      }
    },
    {
      "cell_type": "markdown",
      "source": [
        "**Visão do matemático:**\n",
        "\n",
        "*   Uma incognita. x, y\n",
        "*   Equações 1º 2º Lineares...\n",
        "\n",
        "**Visão de DBA (Admistrador de Banco de Dados)**\n",
        "\n",
        "- Uma variável com um atributo de uma entidade\n",
        "- Uma variável é um campo da tabela\n",
        "- Uma variável é uma coluna\n",
        "\n",
        "**Visão do estatistíco:**\n",
        "\n",
        "As variáveis são os dados de um experimento cientifico\n",
        "- Qualitativa: consistem em atributos, qualidades, caractisticas.\n",
        "- Quantitativa: consistem em medidas ou contagens numéricas.\n"
      ],
      "metadata": {
        "id": "r1RKcT3OKbzN"
      }
    },
    {
      "cell_type": "markdown",
      "source": [
        "---------------------"
      ],
      "metadata": {
        "id": "gpJislf1N8w_"
      }
    },
    {
      "cell_type": "markdown",
      "source": [],
      "metadata": {
        "id": "FBfIN6jVPILu"
      }
    },
    {
      "cell_type": "markdown",
      "source": [
        "## Qualitativo:\n",
        "\n",
        "1.  Nominais: representantes nomes, rótulos ou categorias (não tem ordem).\n",
        "2.  Ordinais: mantêm uma relação de ordem do menor para o maior.\n"
      ],
      "metadata": {
        "id": "FLjv0SOAN-pl"
      }
    },
    {
      "cell_type": "markdown",
      "source": [],
      "metadata": {
        "id": "d9TYIBBxQAxK"
      }
    },
    {
      "cell_type": "markdown",
      "source": [],
      "metadata": {
        "id": "7n-UENG1PJAV"
      }
    },
    {
      "cell_type": "markdown",
      "source": [
        "## Quantitativo\n",
        "\n",
        "- Discreto: conjunto finito ou enumerável de valores possíveis **(contagem)**.\n",
        "- Contínuos: conjunto infinito de valores possíveis **(mensuração)**."
      ],
      "metadata": {
        "id": "SM7WsTtHPJ9V"
      }
    },
    {
      "cell_type": "markdown",
      "source": [
        "# Exercicío - Variáveis"
      ],
      "metadata": {
        "id": "VU1-9XU6QJJp"
      }
    },
    {
      "cell_type": "markdown",
      "source": [
        "## Determinar se os dados são nominais, ordinais, discretos ou contínuos\n",
        "\n",
        "a) A temperatura (°C) diária de uma cidade.\n",
        "\n",
        "b) Meio de transporte utilizado para ir ao trabalho.\n",
        "\n",
        "c) Grau de escolaridade de funcionários de uma fábrica.\n",
        "\n",
        "d) Número de ligações recebidas por uma central  telefõnica em um minuto\n",
        "qualquer do dia.\n",
        "\n",
        "e) Cor de pele de estudantes inscritos no ENEM.\n",
        "\n",
        "f) Peso (em kg) de indivíduos elegíveis a cirurgia bariátrica.\n",
        "\n",
        "\n"
      ],
      "metadata": {
        "id": "IxkDca6hQNTJ"
      }
    },
    {
      "cell_type": "markdown",
      "source": [
        "Respostas:\n",
        "\n",
        "a) Quantitativa Continuo\n",
        "\n",
        "b) Qualitativa Nominal\n",
        "\n",
        "c) Qualitativa Ordinal\n",
        "\n",
        "d) Quantitativa Discreto\n",
        "\n",
        "e) Qualitativa Nominal\n",
        "\n",
        "f) Quantitativo Continuo"
      ],
      "metadata": {
        "id": "ze35zxWxRwl0"
      }
    }
  ]
}