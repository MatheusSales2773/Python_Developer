{
  "nbformat": 4,
  "nbformat_minor": 0,
  "metadata": {
    "colab": {
      "provenance": [],
      "authorship_tag": "ABX9TyPiBzph2Ryr5VWlOknLRFyc",
      "include_colab_link": true
    },
    "kernelspec": {
      "name": "python3",
      "display_name": "Python 3"
    },
    "language_info": {
      "name": "python"
    }
  },
  "cells": [
    {
      "cell_type": "markdown",
      "metadata": {
        "id": "view-in-github",
        "colab_type": "text"
      },
      "source": [
        "<a href=\"https://colab.research.google.com/github/MatheusSales2773/Python_Developer/blob/main/estastistica_aula1.ipynb\" target=\"_parent\"><img src=\"https://colab.research.google.com/assets/colab-badge.svg\" alt=\"Open In Colab\"/></a>"
      ]
    },
    {
      "cell_type": "code",
      "execution_count": null,
      "metadata": {
        "id": "UWTFWsbuEC5n"
      },
      "outputs": [],
      "source": []
    },
    {
      "cell_type": "markdown",
      "source": [],
      "metadata": {
        "id": "95h9PtcAGt9_"
      }
    },
    {
      "cell_type": "markdown",
      "source": [
        "#EXERCICIO"
      ],
      "metadata": {
        "id": "ltUFYWmWGkHw"
      }
    },
    {
      "cell_type": "markdown",
      "source": [
        "Resposta:\n",
        "Durante a aula, iniciou-se um novo contéudo e um novo módulo, Ciência de Dados é o foco da vez, começamos aprender o básico de Estatística como:\n",
        "\n",
        "*   População\n",
        "*   Amostra\n",
        "\n",
        "amostra\n",
        "Após isso entramos para o Google Colab para aprender usar notebook"
      ],
      "metadata": {
        "id": "wK0Vki6PEVHA"
      }
    }
  ]
}